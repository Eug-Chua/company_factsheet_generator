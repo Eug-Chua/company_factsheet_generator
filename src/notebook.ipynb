{
 "cells": [
  {
   "cell_type": "code",
   "execution_count": 5,
   "metadata": {},
   "outputs": [],
   "source": [
    "import os\n",
    "from tqdm import tqdm\n",
    "from pathlib import Path\n",
    "from docling.document_converter import DocumentConverter"
   ]
  },
  {
   "cell_type": "code",
   "execution_count": 2,
   "metadata": {},
   "outputs": [],
   "source": [
    "data_dir = Path.cwd().parent / \"data\"\n",
    "# file_name = data_dir / \"dbs-annual-report-2024.pdf\"\n",
    "file_name = data_dir / \"Capitaland 2024.pdf\"\n",
    "# file_name = data_dir / \"Grab 2024.pdf\"\n",
    "# file_name = data_dir / \"SQ 2024.pdf\""
   ]
  },
  {
   "cell_type": "code",
   "execution_count": 8,
   "metadata": {},
   "outputs": [
    {
     "name": "stdout",
     "output_type": "stream",
     "text": [
      "Saving to: ../outputs/Capitaland 2024.md\n",
      "Successfully saved markdown to: ../outputs/Capitaland 2024.md\n"
     ]
    },
    {
     "ename": "AttributeError",
     "evalue": "'str' object has no attribute 'stat'",
     "output_type": "error",
     "traceback": [
      "\u001b[0;31m---------------------------------------------------------------------------\u001b[0m",
      "\u001b[0;31mAttributeError\u001b[0m                            Traceback (most recent call last)",
      "Cell \u001b[0;32mIn[8], line 16\u001b[0m\n\u001b[1;32m     13\u001b[0m     f\u001b[38;5;241m.\u001b[39mwrite(markdown_content)\n\u001b[1;32m     15\u001b[0m \u001b[38;5;28mprint\u001b[39m(\u001b[38;5;124mf\u001b[39m\u001b[38;5;124m\"\u001b[39m\u001b[38;5;124mSuccessfully saved markdown to: \u001b[39m\u001b[38;5;132;01m{\u001b[39;00moutput_path\u001b[38;5;132;01m}\u001b[39;00m\u001b[38;5;124m\"\u001b[39m)\n\u001b[0;32m---> 16\u001b[0m \u001b[38;5;28mprint\u001b[39m(\u001b[38;5;124mf\u001b[39m\u001b[38;5;124m\"\u001b[39m\u001b[38;5;124mFile size: \u001b[39m\u001b[38;5;132;01m{\u001b[39;00moutput_path\u001b[38;5;241m.\u001b[39mstat()\u001b[38;5;241m.\u001b[39mst_size\u001b[38;5;132;01m}\u001b[39;00m\u001b[38;5;124m bytes\u001b[39m\u001b[38;5;124m\"\u001b[39m)\n",
      "\u001b[0;31mAttributeError\u001b[0m: 'str' object has no attribute 'stat'"
     ]
    }
   ],
   "source": [
    "converter = DocumentConverter()\n",
    "# convert pdf file\n",
    "result = result = converter.convert(file_name)\n",
    "    \n",
    "# export to markdown\n",
    "markdown_content = result.document.export_to_markdown()\n",
    "# output_path = file_name.parent / f\"{file_name.stem}.md\"\n",
    "\n",
    "output_path = Path(\"../outputs/\") / f\"{file_name.stem}.md\"\n",
    "print(f\"Saving to: {output_path}\")\n",
    "\n",
    "with open(output_path, 'w', encoding='utf-8') as f:\n",
    "    f.write(markdown_content)\n",
    "\n",
    "print(f\"Successfully saved markdown to: {output_path}\")\n",
    "print(f\"File size: {output_path.stat().st_size} bytes\")"
   ]
  },
  {
   "cell_type": "code",
   "execution_count": null,
   "metadata": {},
   "outputs": [],
   "source": []
  }
 ],
 "metadata": {
  "kernelspec": {
   "display_name": "base",
   "language": "python",
   "name": "python3"
  },
  "language_info": {
   "codemirror_mode": {
    "name": "ipython",
    "version": 3
   },
   "file_extension": ".py",
   "mimetype": "text/x-python",
   "name": "python",
   "nbconvert_exporter": "python",
   "pygments_lexer": "ipython3",
   "version": "3.12.7"
  }
 },
 "nbformat": 4,
 "nbformat_minor": 2
}
